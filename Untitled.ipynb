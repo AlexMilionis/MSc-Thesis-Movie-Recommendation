{
 "cells": [
  {
   "cell_type": "code",
   "execution_count": 1,
   "id": "88271124",
   "metadata": {},
   "outputs": [],
   "source": [
    "import numpy as np\n",
    "import pandas as pd\n",
    "import json\n",
    "import sys\n"
   ]
  },
  {
   "cell_type": "code",
   "execution_count": 2,
   "id": "6a3a5d6f",
   "metadata": {},
   "outputs": [],
   "source": [
    "PYCHARM_PATH = 'C:/Users/milio/Desktop/edemm/diplomatiki/pycharm/'\n",
    "sys.path.append(PYCHARM_PATH)\n",
    "import preprocessing_functions as prefun"
   ]
  },
  {
   "cell_type": "code",
   "execution_count": 3,
   "id": "4c477391",
   "metadata": {},
   "outputs": [],
   "source": [
    "## MOVIELENS\n",
    "PATH = 'C:/Users/milio/Desktop/datasets/diplomatiki/movielens_10m/'\n",
    "\n",
    "# ratings user gave to movies in MovieLens\n",
    "ratings = prefun.open_json(PATH + 'raw/ratings.json')\n",
    "\n",
    "# metadata for 84661 movies updated: movie data, such as cast, directors and average rating\n",
    "metadata_updated = prefun.open_json(PATH + 'raw/metadata_updated.json')\n",
    "\n",
    "# reviews for movies: movie reviews collected from IMDB\n",
    "reviews = prefun.open_json(PATH + 'raw/reviews.json')\n",
    "reviews = prefun.remove_carriage_return(reviews)\n",
    "\n",
    "# survey_answers: user answers to the survey questions regarding the degree,\n",
    "#  to which a tag applies to a movie\n",
    "survey_answers = prefun.open_json(PATH + 'raw/survey_answers.json')\n",
    "\n",
    "# tag: tags and tag ids\n",
    "tags = prefun.open_json(PATH + 'raw/tags.json')\n",
    "\n",
    "# tag_count: numbers of times users attached tags to movies\n",
    "tag_count = prefun.open_json(PATH + 'raw/tag_count.json')\n",
    "\n",
    "# user survey answers along with movie-tag features\n",
    "predictions = pd.read_csv(PATH + 'processed/features_r.csv')\n"
   ]
  },
  {
   "cell_type": "code",
   "execution_count": 4,
   "id": "a578204d",
   "metadata": {},
   "outputs": [
    {
     "name": "stderr",
     "output_type": "stream",
     "text": [
      "C:\\Users\\milio\\AppData\\Local\\Temp\\ipykernel_27184\\2095120663.py:2: DtypeWarning: Columns (10) have mixed types. Specify dtype option on import or set low_memory=False.\n",
      "  md = pd.read_csv(PATH+'movies_metadata.csv')\n"
     ]
    },
    {
     "data": {
      "text/plain": [
       "Index(['adult', 'belongs_to_collection', 'budget', 'genres', 'homepage', 'id',\n",
       "       'imdb_id', 'original_language', 'original_title', 'overview',\n",
       "       'popularity', 'poster_path', 'production_companies',\n",
       "       'production_countries', 'release_date', 'revenue', 'runtime',\n",
       "       'spoken_languages', 'status', 'tagline', 'title', 'video',\n",
       "       'vote_average', 'vote_count'],\n",
       "      dtype='object')"
      ]
     },
     "execution_count": 4,
     "metadata": {},
     "output_type": "execute_result"
    }
   ],
   "source": [
    "PATH = 'C:/Users/milio/Desktop/datasets/diplomatiki/kaggle/'\n",
    "md = pd.read_csv(PATH+'movies_metadata.csv')\n",
    "md.columns"
   ]
  },
  {
   "cell_type": "code",
   "execution_count": null,
   "id": "e4173d4f",
   "metadata": {},
   "outputs": [],
   "source": []
  }
 ],
 "metadata": {
  "kernelspec": {
   "display_name": "msc_thesis",
   "language": "python",
   "name": "msc_thesis"
  },
  "language_info": {
   "codemirror_mode": {
    "name": "ipython",
    "version": 3
   },
   "file_extension": ".py",
   "mimetype": "text/x-python",
   "name": "python",
   "nbconvert_exporter": "python",
   "pygments_lexer": "ipython3",
   "version": "3.11.4"
  }
 },
 "nbformat": 4,
 "nbformat_minor": 5
}
